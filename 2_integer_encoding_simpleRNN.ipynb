{
  "nbformat": 4,
  "nbformat_minor": 0,
  "metadata": {
    "colab": {
      "provenance": [],
      "gpuType": "T4",
      "authorship_tag": "ABX9TyPEkM34zbvMeQLdAXts4zpg",
      "include_colab_link": true
    },
    "kernelspec": {
      "name": "python3",
      "display_name": "Python 3"
    },
    "language_info": {
      "name": "python"
    },
    "accelerator": "GPU"
  },
  "cells": [
    {
      "cell_type": "markdown",
      "metadata": {
        "id": "view-in-github",
        "colab_type": "text"
      },
      "source": [
        "<a href=\"https://colab.research.google.com/github/rani-sikdar/Tensorflow-Learning/blob/main/2_integer_encoding_simpleRNN.ipynb\" target=\"_parent\"><img src=\"https://colab.research.google.com/assets/colab-badge.svg\" alt=\"Open In Colab\"/></a>"
      ]
    },
    {
      "cell_type": "code",
      "execution_count": 11,
      "metadata": {
        "id": "j1Fo41_9b5Jz"
      },
      "outputs": [],
      "source": [
        "import numpy as np\n",
        "\n",
        "docs =['india india',\n",
        "       'go india',\n",
        "       'hip hip hurray',\n",
        "       'kohli kohli',\n",
        "       'dhoni dhoni',\n",
        "       'sachin sachin',\n",
        "       'ipl is starting',\n",
        "       'jeetega bhai jeetega india jeetega']"
      ]
    },
    {
      "cell_type": "code",
      "source": [
        "from tensorflow.keras.preprocessing.text import Tokenizer\n",
        "tokenizer = Tokenizer(oov_token='<nothing>')"
      ],
      "metadata": {
        "id": "R4vB033QcCq2"
      },
      "execution_count": 12,
      "outputs": []
    },
    {
      "cell_type": "code",
      "source": [
        "tokenizer.fit_on_texts(docs)"
      ],
      "metadata": {
        "id": "rkXOnXB4cCne"
      },
      "execution_count": 13,
      "outputs": []
    },
    {
      "cell_type": "code",
      "source": [
        "tokenizer.word_index"
      ],
      "metadata": {
        "colab": {
          "base_uri": "https://localhost:8080/"
        },
        "id": "fYnoPpvVcCk_",
        "outputId": "f24d6ac3-ac3c-486a-98c5-2f7d5bf9d6c4"
      },
      "execution_count": 14,
      "outputs": [
        {
          "output_type": "execute_result",
          "data": {
            "text/plain": [
              "{'<nothing>': 1,\n",
              " 'india': 2,\n",
              " 'jeetega': 3,\n",
              " 'hip': 4,\n",
              " 'kohli': 5,\n",
              " 'dhoni': 6,\n",
              " 'sachin': 7,\n",
              " 'go': 8,\n",
              " 'hurray': 9,\n",
              " 'ipl': 10,\n",
              " 'is': 11,\n",
              " 'starting': 12,\n",
              " 'bhai': 13}"
            ]
          },
          "metadata": {},
          "execution_count": 14
        }
      ]
    },
    {
      "cell_type": "code",
      "source": [
        "tokenizer.word_counts"
      ],
      "metadata": {
        "colab": {
          "base_uri": "https://localhost:8080/"
        },
        "id": "oUoaxQMPcChw",
        "outputId": "465aff64-9229-400b-a9ab-3bf06d5dba9f"
      },
      "execution_count": 15,
      "outputs": [
        {
          "output_type": "execute_result",
          "data": {
            "text/plain": [
              "OrderedDict([('india', 4),\n",
              "             ('go', 1),\n",
              "             ('hip', 2),\n",
              "             ('hurray', 1),\n",
              "             ('kohli', 2),\n",
              "             ('dhoni', 2),\n",
              "             ('sachin', 2),\n",
              "             ('ipl', 1),\n",
              "             ('is', 1),\n",
              "             ('starting', 1),\n",
              "             ('jeetega', 3),\n",
              "             ('bhai', 1)])"
            ]
          },
          "metadata": {},
          "execution_count": 15
        }
      ]
    },
    {
      "cell_type": "code",
      "source": [
        "tokenizer.document_count"
      ],
      "metadata": {
        "colab": {
          "base_uri": "https://localhost:8080/"
        },
        "id": "U4Dg_BeLcCex",
        "outputId": "a2f6dc25-7360-4539-af70-a1b706fec290"
      },
      "execution_count": 16,
      "outputs": [
        {
          "output_type": "execute_result",
          "data": {
            "text/plain": [
              "8"
            ]
          },
          "metadata": {},
          "execution_count": 16
        }
      ]
    },
    {
      "cell_type": "code",
      "source": [
        "# integer encoding\n",
        "sequences = tokenizer.texts_to_sequences(docs)\n",
        "sequences"
      ],
      "metadata": {
        "colab": {
          "base_uri": "https://localhost:8080/"
        },
        "id": "j3pZoBB6cCbt",
        "outputId": "bb79cf7f-87d4-4cc3-b385-b59826aa60f4"
      },
      "execution_count": 21,
      "outputs": [
        {
          "output_type": "execute_result",
          "data": {
            "text/plain": [
              "[[2, 2],\n",
              " [8, 2],\n",
              " [4, 4, 9],\n",
              " [5, 5],\n",
              " [6, 6],\n",
              " [7, 7],\n",
              " [10, 11, 12],\n",
              " [3, 13, 3, 2, 3]]"
            ]
          },
          "metadata": {},
          "execution_count": 21
        }
      ]
    },
    {
      "cell_type": "code",
      "source": [
        "# padding\n",
        "from tensorflow.keras.preprocessing.sequence import pad_sequences"
      ],
      "metadata": {
        "id": "LKNrMNNucCZJ"
      },
      "execution_count": 22,
      "outputs": []
    },
    {
      "cell_type": "code",
      "source": [
        "sequeneces = pad_sequences(sequences,padding='post')\n",
        "sequeneces"
      ],
      "metadata": {
        "colab": {
          "base_uri": "https://localhost:8080/"
        },
        "id": "kIiaz2GEcCV4",
        "outputId": "2b0013e5-527d-4726-8362-3644b129886d"
      },
      "execution_count": 23,
      "outputs": [
        {
          "output_type": "execute_result",
          "data": {
            "text/plain": [
              "array([[ 2,  2,  0,  0,  0],\n",
              "       [ 8,  2,  0,  0,  0],\n",
              "       [ 4,  4,  9,  0,  0],\n",
              "       [ 5,  5,  0,  0,  0],\n",
              "       [ 6,  6,  0,  0,  0],\n",
              "       [ 7,  7,  0,  0,  0],\n",
              "       [10, 11, 12,  0,  0],\n",
              "       [ 3, 13,  3,  2,  3]], dtype=int32)"
            ]
          },
          "metadata": {},
          "execution_count": 23
        }
      ]
    },
    {
      "cell_type": "code",
      "source": [],
      "metadata": {
        "id": "moA2n1QAcCQp"
      },
      "execution_count": null,
      "outputs": []
    }
  ]
}