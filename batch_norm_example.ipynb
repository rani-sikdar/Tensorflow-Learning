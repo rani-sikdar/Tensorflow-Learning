{
  "nbformat": 4,
  "nbformat_minor": 0,
  "metadata": {
    "colab": {
      "provenance": [],
      "authorship_tag": "ABX9TyOq8kcxcuT/ji3Tv/NvD9i5",
      "include_colab_link": true
    },
    "kernelspec": {
      "name": "python3",
      "display_name": "Python 3"
    },
    "language_info": {
      "name": "python"
    }
  },
  "cells": [
    {
      "cell_type": "markdown",
      "metadata": {
        "id": "view-in-github",
        "colab_type": "text"
      },
      "source": [
        "<a href=\"https://colab.research.google.com/github/rani-sikdar/Tensorflow-Learning/blob/main/batch_norm_example.ipynb\" target=\"_parent\"><img src=\"https://colab.research.google.com/assets/colab-badge.svg\" alt=\"Open In Colab\"/></a>"
      ]
    },
    {
      "cell_type": "code",
      "execution_count": 1,
      "metadata": {
        "id": "VwoDGts80MrS"
      },
      "outputs": [],
      "source": [
        "import pandas as pd\n",
        "import numpy as np\n",
        "import matplotlib.pyplot as plt"
      ]
    },
    {
      "cell_type": "code",
      "source": [
        "df= pd.read_csv('')"
      ],
      "metadata": {
        "id": "JjCg3yCg2SUv"
      },
      "execution_count": null,
      "outputs": []
    },
    {
      "cell_type": "code",
      "source": [
        "df.rename(columns = {0:\"x\", 1:\"y\", 2:\"class\"}, inplace=True)\n",
        "df"
      ],
      "metadata": {
        "id": "9kM_dCIk2SXa"
      },
      "execution_count": null,
      "outputs": []
    },
    {
      "cell_type": "code",
      "source": [
        "plt.scatter(df['x'], df['y'], c= df['class'])"
      ],
      "metadata": {
        "id": "1Yw7uwAf2SZ5"
      },
      "execution_count": null,
      "outputs": []
    },
    {
      "cell_type": "code",
      "source": [
        "X = df.iloc[:, 0:2].values\n",
        "y = df.iloc[:, -1].values"
      ],
      "metadata": {
        "id": "1XrIstJa2Scf"
      },
      "execution_count": null,
      "outputs": []
    },
    {
      "cell_type": "code",
      "source": [
        "import tensorflow\n",
        "from tensorflow.keras.models import Sequential\n",
        "from tensorflow.keras.layers import Dense, BatchNormalization, Dropout"
      ],
      "metadata": {
        "id": "2Pr3tnaV2Sf4"
      },
      "execution_count": 3,
      "outputs": []
    },
    {
      "cell_type": "code",
      "source": [
        "# without normalization\n",
        "model = Sequential()\n",
        "\n",
        "model.add(Dense(256, activation='relu', input_dim=2))\n",
        "model.add(Dense(128, activation='relu'))\n",
        "model.add(Dense(64, activation='relu'))\n",
        "\n",
        "model.summary()\n"
      ],
      "metadata": {
        "id": "7HQO9nPQ3Xa1"
      },
      "execution_count": null,
      "outputs": []
    },
    {
      "cell_type": "code",
      "source": [
        "model.compile(optimizer='adam', loss='binary_crossentropy', metrics=['accuracy'])"
      ],
      "metadata": {
        "id": "QPr7PkQT3a8b"
      },
      "execution_count": null,
      "outputs": []
    },
    {
      "cell_type": "code",
      "source": [
        "history_1 = model.fit(X, y, epochs=200, batch_size=32, validation_split=0.2)"
      ],
      "metadata": {
        "id": "KGiNWg0a3a_T"
      },
      "execution_count": null,
      "outputs": []
    },
    {
      "cell_type": "code",
      "source": [
        "# with normalization\n",
        "model = Sequential()\n",
        "\n",
        "model.add(Dense(256, activation='relu', input_dim=2))\n",
        "model.add(BatchNormalization())\n",
        "model.add(Dense(128, activation='relu'))\n",
        "model.add(BatchNormalization())\n",
        "model.add(Dense(64, activation='relu'))\n",
        "\n",
        "model.summary()"
      ],
      "metadata": {
        "id": "JP1aR5u03bCI"
      },
      "execution_count": null,
      "outputs": []
    },
    {
      "cell_type": "code",
      "source": [
        "model.compile(optimizer='adam', loss='binary_crossentropy', metrics=['accuracy'])"
      ],
      "metadata": {
        "id": "2ODuIiBo3bEk"
      },
      "execution_count": null,
      "outputs": []
    },
    {
      "cell_type": "code",
      "source": [
        "history_2 = model.fit(X, y, epochs=200, batch_size=32, validation_split=0.2)"
      ],
      "metadata": {
        "id": "2fyeOccz3bHK"
      },
      "execution_count": null,
      "outputs": []
    },
    {
      "cell_type": "code",
      "source": [
        "# comparing two histories\n",
        "\n",
        "plt.plot(history_1.history['val_accuracy'], color='black')\n",
        "plt.plot(history_2.history['val_accuracy'], color='green')"
      ],
      "metadata": {
        "id": "XA2AZXth3bKK"
      },
      "execution_count": null,
      "outputs": []
    }
  ]
}
