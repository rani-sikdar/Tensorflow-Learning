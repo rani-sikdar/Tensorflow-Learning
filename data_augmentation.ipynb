{
  "nbformat": 4,
  "nbformat_minor": 0,
  "metadata": {
    "colab": {
      "provenance": [],
      "gpuType": "T4",
      "mount_file_id": "1bWBpjzHBIfe_daDP-MKZYvDoC95sqsrt",
      "authorship_tag": "ABX9TyMomvYGdU/Uwp6uNxVTZ+Gi",
      "include_colab_link": true
    },
    "kernelspec": {
      "name": "python3",
      "display_name": "Python 3"
    },
    "language_info": {
      "name": "python"
    },
    "accelerator": "GPU"
  },
  "cells": [
    {
      "cell_type": "markdown",
      "metadata": {
        "id": "view-in-github",
        "colab_type": "text"
      },
      "source": [
        "<a href=\"https://colab.research.google.com/github/rani-sikdar/Tensorflow-Learning/blob/main/data_augmentation.ipynb\" target=\"_parent\"><img src=\"https://colab.research.google.com/assets/colab-badge.svg\" alt=\"Open In Colab\"/></a>"
      ]
    },
    {
      "cell_type": "code",
      "execution_count": 3,
      "metadata": {
        "id": "swRzvjLw9_7J"
      },
      "outputs": [],
      "source": [
        "from tensorflow.keras.preprocessing.image import ImageDataGenerator, array_to_img, img_to_array, load_img\n",
        "from tensorflow.keras.models import Sequential\n",
        "from tensorflow.keras.layers import Conv2D, MaxPooling2D\n",
        "from tensorflow.keras.layers import Activation, Dropout, Flatten, Dense\n",
        "from keras import backend as K"
      ]
    },
    {
      "cell_type": "code",
      "source": [
        "datagen = ImageDataGenerator(\n",
        "    rotation_range =40,\n",
        "    width_shift_range=0.2,\n",
        "    height_shift_range =0.2,\n",
        "    shear_range  =0.2,\n",
        "    zoom_range =0.2,\n",
        "    horizontal_flip =True,\n",
        "    fill_mode ='nearest'\n",
        ")"
      ],
      "metadata": {
        "id": "kFEs4I0E-VvU"
      },
      "execution_count": 5,
      "outputs": []
    },
    {
      "cell_type": "code",
      "source": [
        "# load the image\n",
        "\n",
        "image_path = \"/content/drive/MyDrive/cat_data_augmentation.jpg\"\n",
        "saved_image_path = \"/content/drive/MyDrive/augmented_images\"\n",
        "img = load_img(image_path, target_size = (180,180)) # this is a PIL image\n",
        "print(img)"
      ],
      "metadata": {
        "id": "B-QJpn1F-Vyb",
        "colab": {
          "base_uri": "https://localhost:8080/"
        },
        "outputId": "b7bbd382-2f6f-4fb5-c727-12431e713842"
      },
      "execution_count": 16,
      "outputs": [
        {
          "output_type": "stream",
          "name": "stdout",
          "text": [
            "<PIL.Image.Image image mode=RGB size=180x180 at 0x7F74EC43BE20>\n"
          ]
        }
      ]
    },
    {
      "cell_type": "code",
      "source": [
        "# convert image to numpy array\n",
        "\n",
        "x = img_to_array(img) # this is a Numpy array with shape (3, 150, 150)\n",
        "print(x.shape)"
      ],
      "metadata": {
        "id": "Z4YhJInY-V1d",
        "colab": {
          "base_uri": "https://localhost:8080/"
        },
        "outputId": "f9cebaaa-ba32-4347-dc3e-e5b2287299d5"
      },
      "execution_count": 17,
      "outputs": [
        {
          "output_type": "stream",
          "name": "stdout",
          "text": [
            "(180, 180, 3)\n"
          ]
        }
      ]
    },
    {
      "cell_type": "code",
      "source": [
        "# change to 4 dim -- include the batch size\n",
        "\n",
        "x= x.reshape((1,) + x.shape) # this is a Numpy array with shape (1, 3, 150, 150)\n",
        "print(x.shape)"
      ],
      "metadata": {
        "colab": {
          "base_uri": "https://localhost:8080/"
        },
        "id": "ODQDY6WPbUSE",
        "outputId": "faec8339-77b2-40cf-a544-0342b9277838"
      },
      "execution_count": 20,
      "outputs": [
        {
          "output_type": "stream",
          "name": "stdout",
          "text": [
            "(1, 180, 180, 3)\n"
          ]
        }
      ]
    },
    {
      "cell_type": "code",
      "source": [
        "# generate the images\n",
        "\n",
        "i=0\n",
        "for batch in datagen.flow(x, batch_size=1, save_to_dir = saved_image_path, save_prefix='cat', save_format='jpeg'):\n",
        "  i+=1\n",
        "  if i == 20:\n",
        "    break\n",
        "\n",
        "# generating 20 images for now"
      ],
      "metadata": {
        "id": "QZEuvAuK-V4d"
      },
      "execution_count": 21,
      "outputs": []
    },
    {
      "cell_type": "code",
      "source": [],
      "metadata": {
        "id": "SBH8_ojZ-V7M"
      },
      "execution_count": null,
      "outputs": []
    },
    {
      "cell_type": "code",
      "source": [],
      "metadata": {
        "id": "8yhzbBbq-V99"
      },
      "execution_count": null,
      "outputs": []
    },
    {
      "cell_type": "code",
      "source": [],
      "metadata": {
        "id": "lheZYd__-WBM"
      },
      "execution_count": null,
      "outputs": []
    },
    {
      "cell_type": "code",
      "source": [],
      "metadata": {
        "id": "ZeaxkPOH-WED"
      },
      "execution_count": null,
      "outputs": []
    },
    {
      "cell_type": "code",
      "source": [],
      "metadata": {
        "id": "uJVa_jSI-WHg"
      },
      "execution_count": null,
      "outputs": []
    }
  ]
}